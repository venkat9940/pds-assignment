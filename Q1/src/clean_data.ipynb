{
 "cells": [
  {
   "cell_type": "code",
   "execution_count": 29,
   "id": "4114d87e-5919-418d-944c-4a5b38f9cb56",
   "metadata": {},
   "outputs": [],
   "source": [
    "import pandas as pd"
   ]
  },
  {
   "cell_type": "code",
   "execution_count": 30,
   "id": "944e2a75-69c1-4d59-ad89-8747ef6b2576",
   "metadata": {},
   "outputs": [
    {
     "data": {
      "text/html": [
       "<div>\n",
       "<style scoped>\n",
       "    .dataframe tbody tr th:only-of-type {\n",
       "        vertical-align: middle;\n",
       "    }\n",
       "\n",
       "    .dataframe tbody tr th {\n",
       "        vertical-align: top;\n",
       "    }\n",
       "\n",
       "    .dataframe thead th {\n",
       "        text-align: right;\n",
       "    }\n",
       "</style>\n",
       "<table border=\"1\" class=\"dataframe\">\n",
       "  <thead>\n",
       "    <tr style=\"text-align: right;\">\n",
       "      <th></th>\n",
       "      <th>Height (Inches)</th>\n",
       "      <th>Weight (Pounds)</th>\n",
       "      <th>Age</th>\n",
       "      <th>Grip strength</th>\n",
       "      <th>Frailty</th>\n",
       "    </tr>\n",
       "  </thead>\n",
       "  <tbody>\n",
       "    <tr>\n",
       "      <th>0</th>\n",
       "      <td>65.8</td>\n",
       "      <td>112</td>\n",
       "      <td>30</td>\n",
       "      <td>30</td>\n",
       "      <td>N</td>\n",
       "    </tr>\n",
       "    <tr>\n",
       "      <th>1</th>\n",
       "      <td>71.5</td>\n",
       "      <td>136</td>\n",
       "      <td>19</td>\n",
       "      <td>31</td>\n",
       "      <td>N</td>\n",
       "    </tr>\n",
       "    <tr>\n",
       "      <th>2</th>\n",
       "      <td>69.4</td>\n",
       "      <td>153</td>\n",
       "      <td>45</td>\n",
       "      <td>29</td>\n",
       "      <td>N</td>\n",
       "    </tr>\n",
       "    <tr>\n",
       "      <th>3</th>\n",
       "      <td>68.2</td>\n",
       "      <td>142</td>\n",
       "      <td>22</td>\n",
       "      <td>28</td>\n",
       "      <td>Y</td>\n",
       "    </tr>\n",
       "    <tr>\n",
       "      <th>4</th>\n",
       "      <td>67.8</td>\n",
       "      <td>144</td>\n",
       "      <td>29</td>\n",
       "      <td>24</td>\n",
       "      <td>Y</td>\n",
       "    </tr>\n",
       "  </tbody>\n",
       "</table>\n",
       "</div>"
      ],
      "text/plain": [
       "  Height (Inches)  Weight (Pounds)  Age  Grip strength  Frailty \n",
       "0            65.8              112   30             30         N\n",
       "1            71.5              136   19             31         N\n",
       "2            69.4              153   45             29         N\n",
       "3            68.2              142   22             28         Y\n",
       "4            67.8              144   29             24         Y"
      ]
     },
     "execution_count": 30,
     "metadata": {},
     "output_type": "execute_result"
    }
   ],
   "source": [
    "#importing the raw data\n",
    "data_frame = pd.read_csv('../data_raw/frailty.csv')\n",
    "data_frame.head()"
   ]
  },
  {
   "cell_type": "code",
   "execution_count": 31,
   "id": "5b20b5cf-2160-47e0-b60a-0e69c96f5b92",
   "metadata": {},
   "outputs": [],
   "source": [
    "data_frame_obj = data_frame.select_dtypes(['object'])\n",
    "#strip the trailing spaces\n",
    "data_frame[data_frame_obj.columns] = data_frame_obj.apply(lambda x: x.str.strip())\n",
    "data_frame.columns = data_frame.columns.str.strip()"
   ]
  },
  {
   "cell_type": "code",
   "execution_count": 32,
   "id": "a78b9409-9848-4600-9470-476506b865ff",
   "metadata": {},
   "outputs": [],
   "source": [
    "#rename the file\n",
    "data_frame.rename(columns = {'Height (Inches)':'height', \n",
    "                       'Weight (Pounds)':'weight',\n",
    "                       'Age':'age',\n",
    "                        'Grip strength':'grip_strength',\n",
    "                         'Frailty':'frailty'}, inplace = True)\n",
    "data_frame.frailty=data_frame.frailty.map(dict(Y=1, N=0))"
   ]
  },
  {
   "cell_type": "code",
   "execution_count": 33,
   "id": "5d8a939d-d7f6-41a4-9fdc-b9d4969a9df9",
   "metadata": {},
   "outputs": [],
   "source": [
    "#displaying conents to csv\n",
    "data_frame.to_csv('../data_clean/clean_frailty.csv')"
   ]
  },
  {
   "cell_type": "code",
   "execution_count": null,
   "id": "d6727774-c739-4c63-b05c-608f047080d7",
   "metadata": {},
   "outputs": [],
   "source": []
  }
 ],
 "metadata": {
  "kernelspec": {
   "display_name": "Python 3 (ipykernel)",
   "language": "python",
   "name": "python3"
  },
  "language_info": {
   "codemirror_mode": {
    "name": "ipython",
    "version": 3
   },
   "file_extension": ".py",
   "mimetype": "text/x-python",
   "name": "python",
   "nbconvert_exporter": "python",
   "pygments_lexer": "ipython3",
   "version": "3.11.5"
  }
 },
 "nbformat": 4,
 "nbformat_minor": 5
}
